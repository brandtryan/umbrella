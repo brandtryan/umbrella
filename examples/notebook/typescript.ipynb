{
 "cells": [
  {
   "cell_type": "code",
   "execution_count": 1,
   "id": "0d5f7131",
   "metadata": {},
   "outputs": [
    {
     "name": "stdout",
     "output_type": "stream",
     "text": [
      "[ 1, 2, 3, 4, 5 ]\n",
      "[ 1, 2, 3, 4, 5 ]\n",
      "[ 0, 1, 12, 123, 1234, 12345, 123456, 1234567 ]\n"
     ]
    }
   ],
   "source": [
    "import { iterate } from \"@thi.ng/transducers\";\n",
    "\n",
    "console.log(\n",
    "\t[...iterate((x) => x + 1, 1, 5)]\n",
    ");\n",
    "// [1, 2, 3, 4, 5]\n",
    "\n",
    "// Same as\n",
    "const arr = [];\n",
    "for (let i = 1; i < 6; i++) {\n",
    "\tarr.push(i);\n",
    "}\n",
    "console.log(arr);\n",
    "// [1, 2, 3, 4, 5]\n",
    "\n",
    "console.log(\n",
    "\t[...iterate((x, i) => x * 10 + i, 0, 8)]\n",
    ");"
   ]
  }
 ],
 "metadata": {
  "kernelspec": {
   "display_name": "Deno",
   "language": "typescript",
   "name": "deno"
  },
  "language_info": {
   "codemirror_mode": "typescript",
   "file_extension": ".ts",
   "mimetype": "text/x.typescript",
   "name": "typescript",
   "nbconvert_exporter": "script",
   "pygments_lexer": "typescript",
   "version": "5.8.3"
  }
 },
 "nbformat": 4,
 "nbformat_minor": 5
}
